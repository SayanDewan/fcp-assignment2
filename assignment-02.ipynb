{
 "cells": [
  {
   "cell_type": "markdown",
   "metadata": {},
   "source": [
    "# Assignment 02"
   ]
  },
  {
   "attachments": {},
   "cell_type": "markdown",
   "metadata": {},
   "source": [
    "You are expected to submit this assignment as a github repo. \n",
    "\n",
    "* Create a new github repository. You may call it `fcp-assignment2`. Please make sure you make this repository public. \n",
    "\n",
    "* Please [download this notebook][1] and add it to your repository.\n",
    "\n",
    "* Solve all the problems in the notebook and commit them to the repository. \n",
    "\n",
    "The instructions for submitting your assignment will be shared with you by email.\n",
    "\n",
    "[1]: https://raw.githubusercontent.com/anandology/isi-fcp/refs/heads/main/assignments/assignment-02.ipynb"
   ]
  },
  {
   "attachments": {},
   "cell_type": "markdown",
   "metadata": {},
   "source": [
    "Please solve the problems in the empty cells provided below the problem statement.\n",
    "\n",
    "Some of the problems require input files. In those cases, sample input files provided after the problem. \n",
    "\n",
    "Please `Run All Cells` to execute all the cells and create the required files before you start solving the problems. Please note that you just need to do that only once."
   ]
  },
  {
   "cell_type": "markdown",
   "metadata": {},
   "source": [
    "## Problem 1: Digit Count\n",
    "\n",
    "Write a function `digit_count` that takes a number and a digit as argument and returns the number of times the digit is present in that number.\n",
    "\n",
    "```python\n",
    ">>> digit_count(1231, 1)\n",
    "2\n",
    ">>> digit_count(1231, 3)\n",
    "1\n",
    ">>> digit_count(1231, 9)\n",
    "0\n",
    "```\n",
    "\n",
    "**Hint:**\n",
    "\n",
    "```python\n",
    ">>> \"mathematics\".count(\"mat\")\n",
    "2\n",
    "```\n",
    "\n",
    "\n"
   ]
  },
  {
   "cell_type": "code",
   "execution_count": 1,
   "metadata": {},
   "outputs": [],
   "source": [
    "def digit_count(num,dig):\n",
    "    s=str(num)\n",
    "    d=str(dig)\n",
    "    count=0\n",
    "    for i in s:\n",
    "        if i==d:\n",
    "            count+=1\n",
    "    return count"
   ]
  },
  {
   "cell_type": "code",
   "execution_count": 2,
   "metadata": {},
   "outputs": [
    {
     "data": {
      "text/plain": [
       "2"
      ]
     },
     "execution_count": 2,
     "metadata": {},
     "output_type": "execute_result"
    }
   ],
   "source": [
    "digit_count(1231,1)"
   ]
  },
  {
   "cell_type": "code",
   "execution_count": 3,
   "metadata": {},
   "outputs": [
    {
     "data": {
      "text/plain": [
       "0"
      ]
     },
     "execution_count": 3,
     "metadata": {},
     "output_type": "execute_result"
    }
   ],
   "source": [
    "digit_count(1231,9)"
   ]
  },
  {
   "cell_type": "markdown",
   "metadata": {},
   "source": [
    "## Problem 2: Despace\n",
    "\n",
    "Write a function `despace` to remove all the spaces from a string.\n",
    "\n",
    "```python\n",
    ">>> despace(\"hello world\")\n",
    "'helloworld'\n",
    ">>> despace(\"a b c d e\")\n",
    "'abcde'\n",
    ">>> despace(\"pi seconds is a nano century\")\n",
    "'pisecondsisananocentury'\n",
    "```"
   ]
  },
  {
   "cell_type": "code",
   "execution_count": 4,
   "metadata": {},
   "outputs": [],
   "source": [
    "def despace(string):\n",
    "    sent=''\n",
    "    for i in string:\n",
    "        if i!=' ':\n",
    "            sent+=i\n",
    "    return sent"
   ]
  },
  {
   "cell_type": "code",
   "execution_count": 5,
   "metadata": {},
   "outputs": [
    {
     "data": {
      "text/plain": [
       "'helloworld'"
      ]
     },
     "execution_count": 5,
     "metadata": {},
     "output_type": "execute_result"
    }
   ],
   "source": [
    "despace(\"hello world\")"
   ]
  },
  {
   "cell_type": "code",
   "execution_count": 6,
   "metadata": {},
   "outputs": [
    {
     "data": {
      "text/plain": [
       "'pisecondsisananocentury'"
      ]
     },
     "execution_count": 6,
     "metadata": {},
     "output_type": "execute_result"
    }
   ],
   "source": [
    "despace(\"pi seconds is a nano century\")"
   ]
  },
  {
   "attachments": {},
   "cell_type": "markdown",
   "metadata": {},
   "source": [
    "\n",
    "\n",
    "\n",
    "## Problem 3: Reverse Words\n",
    "Write a function `reverse_words` that takes a sentence and returns a new sentence with all the words in the reserse order.\n",
    "\n",
    "```\n",
    ">>> reverse_words(\"joy of programming\")\n",
    "'programming of joy'\n",
    "\n",
    ">>> reverse_words(\"less is more\")\n",
    "'more is less'\n",
    "\n",
    ">>> reverse_words(\"road goes ever on and on\")\n",
    "'on and on ever goes road'\n",
    "```\n",
    "\n",
    "Please note that only the order of the words in the sentence is reversed, not the letters in each word."
   ]
  },
  {
   "cell_type": "code",
   "execution_count": 7,
   "metadata": {},
   "outputs": [],
   "source": [
    "def reverse_words(sentence):\n",
    "    sent=sentence.split(' ')\n",
    "    result=''\n",
    "    for i in sent[::-1]:\n",
    "        result+=i+' '\n",
    "    return result.rstrip(' ')"
   ]
  },
  {
   "cell_type": "code",
   "execution_count": 8,
   "metadata": {},
   "outputs": [
    {
     "data": {
      "text/plain": [
       "'programming of joy'"
      ]
     },
     "execution_count": 8,
     "metadata": {},
     "output_type": "execute_result"
    }
   ],
   "source": [
    "reverse_words(\"joy of programming\")"
   ]
  },
  {
   "cell_type": "code",
   "execution_count": 9,
   "metadata": {},
   "outputs": [
    {
     "data": {
      "text/plain": [
       "'on and on ever goes road'"
      ]
     },
     "execution_count": 9,
     "metadata": {},
     "output_type": "execute_result"
    }
   ],
   "source": [
    "reverse_words(\"road goes ever on and on\")"
   ]
  },
  {
   "cell_type": "markdown",
   "metadata": {},
   "source": [
    "## Problem 4: Multiple of 3 and 5"
   ]
  },
  {
   "attachments": {},
   "cell_type": "markdown",
   "metadata": {},
   "source": [
    "If we list all the natural numbers below that are multiples of `3` or `5`, we get `3`, `5`, `6`, and `9`. The sum of these multiples is `23`.\n",
    "\n",
    "Write a python program to compute the sum of all the multiples of `3` or `5` below `1000`.\n",
    " \n",
    "Credits: This problem is based on [Problem 1 of Project Euler](https://projecteuler.net/problem=1)."
   ]
  },
  {
   "cell_type": "code",
   "execution_count": 10,
   "metadata": {},
   "outputs": [
    {
     "name": "stdout",
     "output_type": "stream",
     "text": [
      "233168\n"
     ]
    }
   ],
   "source": [
    "r=[ i for i in range (1000) if i%3==0 or i%5==0]\n",
    "print(sum(r))"
   ]
  },
  {
   "cell_type": "code",
   "execution_count": null,
   "metadata": {},
   "outputs": [],
   "source": []
  },
  {
   "cell_type": "code",
   "execution_count": null,
   "metadata": {},
   "outputs": [],
   "source": []
  },
  {
   "cell_type": "code",
   "execution_count": null,
   "metadata": {},
   "outputs": [],
   "source": []
  },
  {
   "attachments": {},
   "cell_type": "markdown",
   "metadata": {},
   "source": [
    "## Problem 5: Generate Password\n",
    "\n",
    "Write a function `generate_password` to generate random password of given length.\n",
    "\n",
    "The function should take length `n` as argument and generate a password using mix of letters from lowercase, uppercase from English alphabet and digits. It should not have any other characters.\n",
    "\n",
    "```\n",
    ">>> generate_password(8)\n",
    "'rBZLcP8V'\n",
    ">>> generate_password(25)\n",
    "'JU938tUT36QRvVEPh9OLrxlrB'\n",
    "```\n",
    "\n",
    "**Hint**\n",
    "\n",
    "* See `random.choice` function from the `random` module\n",
    "* See `string.ascii_letters` and `string.digits` from the string module\n"
   ]
  },
  {
   "cell_type": "code",
   "execution_count": 11,
   "metadata": {},
   "outputs": [],
   "source": [
    "import random\n",
    "import string\n",
    "\n",
    "def generate_password(n):\n",
    "    if n < 3:\n",
    "        raise ValueError(\"Password length should be at least 3 to include all character types.\")\n",
    "    \n",
    "    password = [\n",
    "        random.choice(string.ascii_lowercase),\n",
    "        random.choice(string.ascii_uppercase),\n",
    "        random.choice(string.digits)\n",
    "    ]\n",
    "    \n",
    "    characters = string.ascii_lowercase + string.ascii_uppercase + string.digits\n",
    "    password += random.choices(characters, k=n - 3)\n",
    "    \n",
    "    random.shuffle(password)\n",
    "    \n",
    "    return ''.join(password)"
   ]
  },
  {
   "cell_type": "code",
   "execution_count": 12,
   "metadata": {},
   "outputs": [
    {
     "data": {
      "text/plain": [
       "'DiIbrq25'"
      ]
     },
     "execution_count": 12,
     "metadata": {},
     "output_type": "execute_result"
    }
   ],
   "source": [
    "generate_password(8)"
   ]
  },
  {
   "cell_type": "code",
   "execution_count": 13,
   "metadata": {},
   "outputs": [
    {
     "data": {
      "text/plain": [
       "'iXLHdpuUHhyylWR26Fuk35Oh7'"
      ]
     },
     "execution_count": 13,
     "metadata": {},
     "output_type": "execute_result"
    }
   ],
   "source": [
    "generate_password(25)"
   ]
  },
  {
   "attachments": {},
   "cell_type": "markdown",
   "metadata": {},
   "source": [
    "## Problem 6: Fortune\n",
    "\n",
    "`fortune` is popular program on Unix that displays a random message from a database of quotations. These  quotes are often funny and witty. \n",
    "\n",
    "Your task is a implement a simpler version of the _fortune_ command. Write a program `fortune.py` that prints a random quote from `fortune.txt` file. The file contains quotes separated by `%`. A sample `fortune.txt` is provided below.\n",
    "\n",
    "This is how it is suppose to work.\n",
    "\n",
    "```\n",
    "$ python fortune.py\n",
    "You are taking yourself far too seriously.\n",
    "\n",
    "$ python fortune.py\n",
    "It usually takes more than three weeks to prepare a good impromptu speech.\n",
    "                -- Mark Twain\n",
    "```\n",
    "\n",
    "**Hint:**\n",
    "\n",
    "Python has a built-in module `random`. It can be used to pick a random item from a list of items.\n",
    "\n",
    "```python\n",
    ">>> import random\n",
    ">>> names = [\"alice\", \"bob\", \"charlie\", \"dave\"]\n",
    ">>> random.choice(names)\n",
    "'charlie'\n",
    ">>> random.choice(names)\n",
    "'alice'\n",
    "```\n",
    "\n"
   ]
  },
  {
   "cell_type": "code",
   "execution_count": 18,
   "metadata": {},
   "outputs": [
    {
     "name": "stdout",
     "output_type": "stream",
     "text": [
      "Writing fortune.txt\n"
     ]
    }
   ],
   "source": [
    "%%file fortune.txt\n",
    "You will soon forget this.\n",
    "%\n",
    "Too much is just enough.\n",
    "                -- Mark Twain, on whiskey\n",
    "%\n",
    "Q:      Why did the astrophysicist order three hamburgers?\n",
    "A:      Because he was hungry.\n",
    "%\n",
    "You will be aided greatly by a person whom you thought to be unimportant.\n",
    "%\n",
    "Communicate!  It can't make things any worse.\n",
    "%\n",
    "It usually takes more than three weeks to prepare a good impromptu speech.\n",
    "                -- Mark Twain\n",
    "%\n",
    "Write yourself a threatening letter and pen a defiant reply.\n",
    "%\n",
    "You should go home.\n",
    "%\n",
    "You are taking yourself far too seriously.\n",
    "%\n",
    "Q:      Do you know what the death rate around here is?\n",
    "A:      One per person.\n",
    "%\n",
    "You need no longer worry about the future.  This time tomorrow you'll be dead. "
   ]
  },
  {
   "cell_type": "code",
   "execution_count": 56,
   "metadata": {},
   "outputs": [
    {
     "name": "stdout",
     "output_type": "stream",
     "text": [
      "Overwriting fortune.py\n"
     ]
    }
   ],
   "source": [
    "%%file fortune.py\n",
    "import random\n",
    "\n",
    "f=open(\"fortune.txt\")\n",
    "x=f.read()\n",
    "L=x.split(\"%\")\n",
    "l=[]\n",
    "for i in L:\n",
    "    if i!='%':\n",
    "        l.append(i)\n",
    "print(random.choice(l))"
   ]
  },
  {
   "cell_type": "code",
   "execution_count": 60,
   "metadata": {},
   "outputs": [
    {
     "name": "stdout",
     "output_type": "stream",
     "text": [
      "\n",
      "Too much is just enough.\n",
      "                -- Mark Twain, on whiskey\n",
      "\n"
     ]
    }
   ],
   "source": [
    "!python fortune.py"
   ]
  },
  {
   "cell_type": "code",
   "execution_count": 59,
   "metadata": {},
   "outputs": [
    {
     "name": "stdout",
     "output_type": "stream",
     "text": [
      "\n",
      "It usually takes more than three weeks to prepare a good impromptu speech.\n",
      "                -- Mark Twain\n",
      "\n"
     ]
    }
   ],
   "source": [
    "!python fortune.py"
   ]
  },
  {
   "attachments": {},
   "cell_type": "markdown",
   "metadata": {},
   "source": [
    "## Problem 7 : Countdown\n",
    "\n",
    "Write a program `countdown.py` to print numbers from `n` to 1.\n",
    "\n",
    "The program should take the number `n` as command-line argument.\n",
    "\n",
    "```\n",
    "$ python countdown.py 5\n",
    "5\n",
    "4\n",
    "3\n",
    "2\n",
    "1\n",
    "```\n",
    "\n",
    "\n"
   ]
  },
  {
   "cell_type": "code",
   "execution_count": 1,
   "metadata": {},
   "outputs": [
    {
     "name": "stdout",
     "output_type": "stream",
     "text": [
      "Overwriting countdown.py\n"
     ]
    }
   ],
   "source": [
    "%%file countdown.py\n",
    "import sys\n",
    "\n",
    "def countdown(n):\n",
    "    for i in range(n, 0, -1):\n",
    "        print(i)\n",
    "n = int(sys.argv[1])\n",
    "countdown(n)"
   ]
  },
  {
   "cell_type": "code",
   "execution_count": null,
   "metadata": {},
   "outputs": [],
   "source": [
    "!python countdown.py 5"
   ]
  },
  {
   "cell_type": "code",
   "execution_count": null,
   "metadata": {},
   "outputs": [],
   "source": []
  },
  {
   "cell_type": "code",
   "execution_count": null,
   "metadata": {},
   "outputs": [],
   "source": []
  },
  {
   "attachments": {},
   "cell_type": "markdown",
   "metadata": {},
   "source": [
    "## Problem 8: Largest Number in a File"
   ]
  },
  {
   "attachments": {},
   "cell_type": "markdown",
   "metadata": {},
   "source": [
    "Write a function `largest_number_in_file` that takes a name of a file containing numbers as an arguments and returns largest number in that file.\n",
    "\n",
    "```\n",
    ">>> largest_number_in_file(\"5.txt\")\n",
    "5\n",
    ">>> largest_number_in_file(\"numbers.txt\")\n",
    "42\n",
    "```\n",
    "\n",
    "The sample input files are provided below.\n",
    "\n",
    "**Hint:**\n",
    "\n",
    "The built-in function `max` takes a list a numbers as arguments and returns the maximum among them.\n",
    "\n",
    "\n",
    "```\n",
    ">>> max([1, 2, 3, 4, 5])\n",
    "5\n",
    "```"
   ]
  },
  {
   "cell_type": "code",
   "execution_count": 16,
   "metadata": {},
   "outputs": [
    {
     "name": "stdout",
     "output_type": "stream",
     "text": [
      "Writing 5.txt\n"
     ]
    }
   ],
   "source": [
    "%%file 5.txt\n",
    "1\n",
    "2\n",
    "3\n",
    "4\n",
    "5"
   ]
  },
  {
   "cell_type": "code",
   "execution_count": 32,
   "metadata": {},
   "outputs": [
    {
     "name": "stdout",
     "output_type": "stream",
     "text": [
      "Overwriting numbers.txt\n"
     ]
    }
   ],
   "source": [
    "%%file numbers.txt\n",
    "1\n",
    "16\n",
    "12\n",
    "37\n",
    "42\n",
    "19\n",
    "9\n",
    "15\n",
    "18\n",
    "24"
   ]
  },
  {
   "cell_type": "code",
   "execution_count": 71,
   "metadata": {},
   "outputs": [],
   "source": [
    "def largest_number_in_file(filename):\n",
    "    file=open(filename)\n",
    "    r=file.readlines()\n",
    "    numbers = []\n",
    "    for i in r:\n",
    "        x=int(i)\n",
    "        numbers.append(x)\n",
    "    return max(numbers)"
   ]
  },
  {
   "cell_type": "code",
   "execution_count": 72,
   "metadata": {},
   "outputs": [
    {
     "data": {
      "text/plain": [
       "5"
      ]
     },
     "execution_count": 72,
     "metadata": {},
     "output_type": "execute_result"
    }
   ],
   "source": [
    "largest_number_in_file(\"5.txt\")"
   ]
  },
  {
   "cell_type": "code",
   "execution_count": 73,
   "metadata": {},
   "outputs": [
    {
     "data": {
      "text/plain": [
       "42"
      ]
     },
     "execution_count": 73,
     "metadata": {},
     "output_type": "execute_result"
    }
   ],
   "source": [
    "largest_number_in_file(\"numbers.txt\")"
   ]
  },
  {
   "attachments": {},
   "cell_type": "markdown",
   "metadata": {},
   "source": [
    "## Problem 9: Plot $y = x^2$ and $y = 2^x$\n",
    "\n",
    "Write a python program to plot $y = x^2$ and $y = 2^x$ in the range $[-2, 2]$. Both the plots should appear in the same graph and add legend to label the plots. Please use latex math expressions for the labels to write $x^2$ and $2^x$.\n"
   ]
  },
  {
   "cell_type": "code",
   "execution_count": 81,
   "metadata": {},
   "outputs": [
    {
     "data": {
      "image/png": "[encoded data removed]",
      "text/plain": [
       "<Figure size 640x480 with 1 Axes>"
      ]
     },
     "metadata": {},
     "output_type": "display_data"
    }
   ],
   "source": [
    "import numpy as np\n",
    "import matplotlib.pyplot as plt\n",
    "\n",
    "x = np.linspace(-2 , 2 , 1000)\n",
    "\n",
    "f_x = np.pow(x,2)\n",
    "g_x = np.pow(2,x)\n",
    "\n",
    "plt.plot(x, f_x, label='$f(x) = x^2$')\n",
    "plt.plot(x, g_x, label='$g(x) = 2^x$')\n",
    "\n",
    "plt.legend()\n",
    "plt.title('Plots of $f(x) = x^2$ and $g(x) = 2^x$')\n",
    "plt.xlabel('$x$')\n",
    "plt.ylabel('$y$')\n",
    "\n",
    "plt.grid()\n",
    "plt.show()\n"
   ]
  },
  {
   "cell_type": "code",
   "execution_count": null,
   "metadata": {},
   "outputs": [],
   "source": []
  },
  {
   "cell_type": "code",
   "execution_count": null,
   "metadata": {},
   "outputs": [],
   "source": []
  },
  {
   "attachments": {},
   "cell_type": "markdown",
   "metadata": {},
   "source": [
    "## Problem 10: Manhattan Distance"
   ]
  },
  {
   "attachments": {},
   "cell_type": "markdown",
   "metadata": {},
   "source": [
    "Write a function `manhattan_distance` to compute the manhattan distance between two vectors.\n",
    "\n",
    "The manhattan distance is defined as:\n",
    "\n",
    "$M(p, q) = \\sum_{i=1}^{n}{| p_i - q_i |}$\n",
    "\n",
    "For more info see: https://en.wikipedia.org/wiki/Taxicab_geometry\n",
    "\n",
    "```\n",
    ">>> manhanttan_distance(np.array([0,0]), np.array([3, 4]))\n",
    "7\n",
    "```"
   ]
  },
  {
   "cell_type": "code",
   "execution_count": 101,
   "metadata": {},
   "outputs": [],
   "source": [
    "def manhattan_distance(vector1, vector2):\n",
    "\n",
    "    if len(vector1) != len(vector2):\n",
    "        raise ValueError(\"Vectors must be of the same length\")\n",
    "    \n",
    "    distance = np.sum(abs(vector1-vector2))\n",
    "    return distance"
   ]
  },
  {
   "cell_type": "code",
   "execution_count": 102,
   "metadata": {},
   "outputs": [
    {
     "name": "stdout",
     "output_type": "stream",
     "text": [
      "7\n"
     ]
    }
   ],
   "source": [
    "print(manhattan_distance(np.array([0,0]),np.array([3,4])))"
   ]
  },
  {
   "cell_type": "code",
   "execution_count": null,
   "metadata": {},
   "outputs": [],
   "source": []
  }
 ],
 "metadata": {
  "kernelspec": {
   "display_name": "Python 3 (ipykernel)",
   "language": "python",
   "name": "python3"
  },
  "language_info": {
   "codemirror_mode": {
    "name": "ipython",
    "version": 3
   },
   "file_extension": ".py",
   "mimetype": "text/x-python",
   "name": "python",
   "nbconvert_exporter": "python",
   "pygments_lexer": "ipython3",
   "version": "3.12.5"
  }
 },
 "nbformat": 4,
 "nbformat_minor": 4
}
